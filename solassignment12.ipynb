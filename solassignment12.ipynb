{
 "cells": [
  {
   "cell_type": "code",
   "execution_count": null,
   "id": "9640f942",
   "metadata": {},
   "outputs": [],
   "source": [
    "# In what modes should the PdfFileReader() and PdfFileWriter() File objects will be opened?\n",
    "PdfFileReader() needs to be opened in read-binary mode\n",
    "\n",
    "# From a PdfFileReader object, how do you get a Page object for page 5?\n",
    "calling the getPage() method on a PdfFileReader object and passing it the page number of the page.\n",
    "\n",
    "# What Pdf File Reader variable stores the number of pages in the PDF document?\n",
    "numPages attribute of a PdfFileReader object \n",
    "\n",
    "# What methods do you use to rotate a page?\n",
    "GetRotation() method returns the Page\n",
    "\n",
    "# What is the difference between a Run object and a Paragraph object?\n",
    "Each Paragraph object also has a runs attribute that is a list of Run objects.\n",
    "\n",
    "# What type of object has bold, underline, italic, strike, and outline variables?\n",
    "object.Bold [= Boolean ]\n",
    "object.Italic [= Boolean ]\n",
    "object.Size [= Currency ]\n",
    "object.StrikeThrough [= Boolean ]\n",
    "object.Underline [= Boolean ]\n",
    "object.Weight [= Integer ]\n",
    "\n",
    "# What is the difference between False, True, and None for the bold variable?\n",
    "false 0 , true 1 , None is used where the field takes an Optional.\n"
   ]
  }
 ],
 "metadata": {
  "kernelspec": {
   "display_name": "Python 3 (ipykernel)",
   "language": "python",
   "name": "python3"
  },
  "language_info": {
   "codemirror_mode": {
    "name": "ipython",
    "version": 3
   },
   "file_extension": ".py",
   "mimetype": "text/x-python",
   "name": "python",
   "nbconvert_exporter": "python",
   "pygments_lexer": "ipython3",
   "version": "3.9.7"
  }
 },
 "nbformat": 4,
 "nbformat_minor": 5
}
